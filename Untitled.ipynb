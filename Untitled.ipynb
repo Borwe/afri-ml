{
 "cells": [
  {
   "cell_type": "code",
   "execution_count": 1,
   "id": "cafcb685-d6de-4fbd-b0c1-c90c7dfd8208",
   "metadata": {},
   "outputs": [],
   "source": [
    "import pandas as pd\n",
    "import matplotlib.pyplot as plt\n",
    "import seaborn as sns\n",
    "# ignore warnings\n",
    "import warnings\n",
    "warnings.filterwarnings('ignore')"
   ]
  },
  {
   "cell_type": "code",
   "execution_count": 2,
   "id": "0740368b-080d-4caf-9917-e0c263c269ec",
   "metadata": {},
   "outputs": [
    {
     "data": {
      "text/html": [
       "<div>\n",
       "<style scoped>\n",
       "    .dataframe tbody tr th:only-of-type {\n",
       "        vertical-align: middle;\n",
       "    }\n",
       "\n",
       "    .dataframe tbody tr th {\n",
       "        vertical-align: top;\n",
       "    }\n",
       "\n",
       "    .dataframe thead th {\n",
       "        text-align: right;\n",
       "    }\n",
       "</style>\n",
       "<table border=\"1\" class=\"dataframe\">\n",
       "  <thead>\n",
       "    <tr style=\"text-align: right;\">\n",
       "      <th></th>\n",
       "      <th>date_str</th>\n",
       "      <th>degrees_from_mean</th>\n",
       "      <th>id</th>\n",
       "      <th>longitude</th>\n",
       "      <th>latitude</th>\n",
       "      <th>max_temp</th>\n",
       "      <th>min_temp</th>\n",
       "      <th>station_name</th>\n",
       "      <th>type</th>\n",
       "      <th>serialid</th>\n",
       "    </tr>\n",
       "  </thead>\n",
       "  <tbody>\n",
       "    <tr>\n",
       "      <th>0</th>\n",
       "      <td>1977-02-19</td>\n",
       "      <td>8.61</td>\n",
       "      <td>USC00103882</td>\n",
       "      <td>-113.5472</td>\n",
       "      <td>43.7186</td>\n",
       "      <td>10.0</td>\n",
       "      <td>-12.8</td>\n",
       "      <td>GROUSE</td>\n",
       "      <td>Weak Hot</td>\n",
       "      <td>1</td>\n",
       "    </tr>\n",
       "    <tr>\n",
       "      <th>1</th>\n",
       "      <td>1977-02-19</td>\n",
       "      <td>10.74</td>\n",
       "      <td>USC00053951</td>\n",
       "      <td>-107.1097</td>\n",
       "      <td>37.7717</td>\n",
       "      <td>11.1</td>\n",
       "      <td>-8.9</td>\n",
       "      <td>HERMIT 7 ESE</td>\n",
       "      <td>Weak Hot</td>\n",
       "      <td>2</td>\n",
       "    </tr>\n",
       "    <tr>\n",
       "      <th>2</th>\n",
       "      <td>1977-02-19</td>\n",
       "      <td>20.46</td>\n",
       "      <td>USC00040379</td>\n",
       "      <td>-119.5128</td>\n",
       "      <td>37.0919</td>\n",
       "      <td>25.6</td>\n",
       "      <td>12.8</td>\n",
       "      <td>AUBERRY 2 NW</td>\n",
       "      <td>Strong Hot</td>\n",
       "      <td>3</td>\n",
       "    </tr>\n",
       "    <tr>\n",
       "      <th>3</th>\n",
       "      <td>1977-02-19</td>\n",
       "      <td>8.60</td>\n",
       "      <td>USC00020808</td>\n",
       "      <td>-109.7517</td>\n",
       "      <td>33.4783</td>\n",
       "      <td>20.0</td>\n",
       "      <td>-3.9</td>\n",
       "      <td>BLACK RIVER PUMPS</td>\n",
       "      <td>Weak Hot</td>\n",
       "      <td>4</td>\n",
       "    </tr>\n",
       "    <tr>\n",
       "      <th>4</th>\n",
       "      <td>1977-02-19</td>\n",
       "      <td>10.30</td>\n",
       "      <td>USC00042598</td>\n",
       "      <td>-115.4508</td>\n",
       "      <td>33.8089</td>\n",
       "      <td>30.6</td>\n",
       "      <td>13.9</td>\n",
       "      <td>EAGLE MTN</td>\n",
       "      <td>Weak Hot</td>\n",
       "      <td>5</td>\n",
       "    </tr>\n",
       "  </tbody>\n",
       "</table>\n",
       "</div>"
      ],
      "text/plain": [
       "     date_str  degrees_from_mean           id  longitude  latitude  max_temp  \\\n",
       "0  1977-02-19               8.61  USC00103882  -113.5472   43.7186      10.0   \n",
       "1  1977-02-19              10.74  USC00053951  -107.1097   37.7717      11.1   \n",
       "2  1977-02-19              20.46  USC00040379  -119.5128   37.0919      25.6   \n",
       "3  1977-02-19               8.60  USC00020808  -109.7517   33.4783      20.0   \n",
       "4  1977-02-19              10.30  USC00042598  -115.4508   33.8089      30.6   \n",
       "\n",
       "   min_temp       station_name        type  serialid  \n",
       "0     -12.8             GROUSE    Weak Hot         1  \n",
       "1      -8.9       HERMIT 7 ESE    Weak Hot         2  \n",
       "2      12.8       AUBERRY 2 NW  Strong Hot         3  \n",
       "3      -3.9  BLACK RIVER PUMPS    Weak Hot         4  \n",
       "4      13.9          EAGLE MTN    Weak Hot         5  "
      ]
     },
     "execution_count": 2,
     "metadata": {},
     "output_type": "execute_result"
    }
   ],
   "source": [
    "# import file  data\n",
    "data = pd.read_csv(\"./weather-anomalies-1964-2013.csv\")\n",
    "data.head()"
   ]
  },
  {
   "cell_type": "code",
   "execution_count": 3,
   "id": "606ee4b1-2eac-46c3-96b8-ae5fbedecc8a",
   "metadata": {},
   "outputs": [
    {
     "name": "stdout",
     "output_type": "stream",
     "text": [
      "<class 'pandas.core.frame.DataFrame'>\n",
      "RangeIndex: 3196832 entries, 0 to 3196831\n",
      "Data columns (total 10 columns):\n",
      " #   Column             Dtype  \n",
      "---  ------             -----  \n",
      " 0   date_str           object \n",
      " 1   degrees_from_mean  float64\n",
      " 2   id                 object \n",
      " 3   longitude          float64\n",
      " 4   latitude           float64\n",
      " 5   max_temp           float64\n",
      " 6   min_temp           float64\n",
      " 7   station_name       object \n",
      " 8   type               object \n",
      " 9   serialid           int64  \n",
      "dtypes: float64(5), int64(1), object(4)\n",
      "memory usage: 243.9+ MB\n"
     ]
    }
   ],
   "source": [
    "# check info\n",
    "data.info()"
   ]
  },
  {
   "cell_type": "code",
   "execution_count": 4,
   "id": "41e0b3d9-67e5-4b2a-8665-c989c13e7d2b",
   "metadata": {},
   "outputs": [
    {
     "data": {
      "text/plain": [
       "date_str             0\n",
       "degrees_from_mean    0\n",
       "id                   0\n",
       "longitude            0\n",
       "latitude             0\n",
       "max_temp             0\n",
       "min_temp             0\n",
       "station_name         0\n",
       "type                 0\n",
       "serialid             0\n",
       "dtype: int64"
      ]
     },
     "execution_count": 4,
     "metadata": {},
     "output_type": "execute_result"
    }
   ],
   "source": [
    "# check if any fields missing\n",
    "data.isnull().sum()"
   ]
  },
  {
   "cell_type": "code",
   "execution_count": 5,
   "id": "ee60cc0a-be8a-46dd-9935-15643bba4748",
   "metadata": {},
   "outputs": [],
   "source": [
    "## Seems all fields have values"
   ]
  },
  {
   "cell_type": "code",
   "execution_count": 6,
   "id": "496e12da-b973-489e-a405-f03731f3a024",
   "metadata": {},
   "outputs": [
    {
     "data": {
      "text/plain": [
       "(18263, 2712)"
      ]
     },
     "execution_count": 6,
     "metadata": {},
     "output_type": "execute_result"
    }
   ],
   "source": [
    "#check unique fields in data_str\n",
    "len(data[\"date_str\"].unique()), len((data[\"longitude\"]+data[\"latitude\"]).unique())"
   ]
  },
  {
   "cell_type": "code",
   "execution_count": 7,
   "id": "4fb52d03-1df5-4b67-953c-f38c9bc42b5b",
   "metadata": {},
   "outputs": [
    {
     "data": {
      "text/plain": [
       "0"
      ]
     },
     "execution_count": 7,
     "metadata": {},
     "output_type": "execute_result"
    }
   ],
   "source": [
    "# Check if duplicates exist\n",
    "data.duplicated().sum()"
   ]
  },
  {
   "cell_type": "code",
   "execution_count": 8,
   "id": "2f04fda1-156d-4c52-a674-4c5a15a2e96c",
   "metadata": {},
   "outputs": [
    {
     "data": {
      "text/html": [
       "<div>\n",
       "<style scoped>\n",
       "    .dataframe tbody tr th:only-of-type {\n",
       "        vertical-align: middle;\n",
       "    }\n",
       "\n",
       "    .dataframe tbody tr th {\n",
       "        vertical-align: top;\n",
       "    }\n",
       "\n",
       "    .dataframe thead th {\n",
       "        text-align: right;\n",
       "    }\n",
       "</style>\n",
       "<table border=\"1\" class=\"dataframe\">\n",
       "  <thead>\n",
       "    <tr style=\"text-align: right;\">\n",
       "      <th></th>\n",
       "      <th>date_str</th>\n",
       "      <th>degrees_from_mean</th>\n",
       "      <th>id</th>\n",
       "      <th>longitude</th>\n",
       "      <th>latitude</th>\n",
       "      <th>max_temp</th>\n",
       "      <th>min_temp</th>\n",
       "      <th>station_name</th>\n",
       "      <th>type</th>\n",
       "      <th>serialid</th>\n",
       "    </tr>\n",
       "  </thead>\n",
       "  <tbody>\n",
       "    <tr>\n",
       "      <th>0</th>\n",
       "      <td>02-19</td>\n",
       "      <td>8.61</td>\n",
       "      <td>USC00103882</td>\n",
       "      <td>-113.5472</td>\n",
       "      <td>43.7186</td>\n",
       "      <td>10.0</td>\n",
       "      <td>-12.8</td>\n",
       "      <td>GROUSE</td>\n",
       "      <td>Weak Hot</td>\n",
       "      <td>1</td>\n",
       "    </tr>\n",
       "    <tr>\n",
       "      <th>1</th>\n",
       "      <td>02-19</td>\n",
       "      <td>10.74</td>\n",
       "      <td>USC00053951</td>\n",
       "      <td>-107.1097</td>\n",
       "      <td>37.7717</td>\n",
       "      <td>11.1</td>\n",
       "      <td>-8.9</td>\n",
       "      <td>HERMIT 7 ESE</td>\n",
       "      <td>Weak Hot</td>\n",
       "      <td>2</td>\n",
       "    </tr>\n",
       "    <tr>\n",
       "      <th>2</th>\n",
       "      <td>02-19</td>\n",
       "      <td>20.46</td>\n",
       "      <td>USC00040379</td>\n",
       "      <td>-119.5128</td>\n",
       "      <td>37.0919</td>\n",
       "      <td>25.6</td>\n",
       "      <td>12.8</td>\n",
       "      <td>AUBERRY 2 NW</td>\n",
       "      <td>Strong Hot</td>\n",
       "      <td>3</td>\n",
       "    </tr>\n",
       "    <tr>\n",
       "      <th>3</th>\n",
       "      <td>02-19</td>\n",
       "      <td>8.60</td>\n",
       "      <td>USC00020808</td>\n",
       "      <td>-109.7517</td>\n",
       "      <td>33.4783</td>\n",
       "      <td>20.0</td>\n",
       "      <td>-3.9</td>\n",
       "      <td>BLACK RIVER PUMPS</td>\n",
       "      <td>Weak Hot</td>\n",
       "      <td>4</td>\n",
       "    </tr>\n",
       "    <tr>\n",
       "      <th>4</th>\n",
       "      <td>02-19</td>\n",
       "      <td>10.30</td>\n",
       "      <td>USC00042598</td>\n",
       "      <td>-115.4508</td>\n",
       "      <td>33.8089</td>\n",
       "      <td>30.6</td>\n",
       "      <td>13.9</td>\n",
       "      <td>EAGLE MTN</td>\n",
       "      <td>Weak Hot</td>\n",
       "      <td>5</td>\n",
       "    </tr>\n",
       "  </tbody>\n",
       "</table>\n",
       "</div>"
      ],
      "text/plain": [
       "  date_str  degrees_from_mean           id  longitude  latitude  max_temp  \\\n",
       "0    02-19               8.61  USC00103882  -113.5472   43.7186      10.0   \n",
       "1    02-19              10.74  USC00053951  -107.1097   37.7717      11.1   \n",
       "2    02-19              20.46  USC00040379  -119.5128   37.0919      25.6   \n",
       "3    02-19               8.60  USC00020808  -109.7517   33.4783      20.0   \n",
       "4    02-19              10.30  USC00042598  -115.4508   33.8089      30.6   \n",
       "\n",
       "   min_temp       station_name        type  serialid  \n",
       "0     -12.8             GROUSE    Weak Hot         1  \n",
       "1      -8.9       HERMIT 7 ESE    Weak Hot         2  \n",
       "2      12.8       AUBERRY 2 NW  Strong Hot         3  \n",
       "3      -3.9  BLACK RIVER PUMPS    Weak Hot         4  \n",
       "4      13.9          EAGLE MTN    Weak Hot         5  "
      ]
     },
     "execution_count": 8,
     "metadata": {},
     "output_type": "execute_result"
    }
   ],
   "source": [
    "#remove year from date_str since seasons and weather is normally cyclical\n",
    "data[\"date_str\"] = data[\"date_str\"].str.split(\"-\").apply(lambda x: x[1]+\"-\"+x[2])\n",
    "data.head()"
   ]
  },
  {
   "cell_type": "code",
   "execution_count": 9,
   "id": "3ee89458-2608-4026-a0ed-8e7da7b2371e",
   "metadata": {},
   "outputs": [
    {
     "data": {
      "text/plain": [
       "array(['Weak Hot', 'Strong Hot', 'Weak Cold', 'Strong Cold'], dtype=object)"
      ]
     },
     "execution_count": 9,
     "metadata": {},
     "output_type": "execute_result"
    }
   ],
   "source": [
    "# cheque types of weather\n",
    "data[\"type\"].unique()"
   ]
  },
  {
   "cell_type": "code",
   "execution_count": 10,
   "id": "08b5fb43-6e4f-4dfd-a55f-1c58105e9a3c",
   "metadata": {},
   "outputs": [
    {
     "data": {
      "text/html": [
       "<div>\n",
       "<style scoped>\n",
       "    .dataframe tbody tr th:only-of-type {\n",
       "        vertical-align: middle;\n",
       "    }\n",
       "\n",
       "    .dataframe tbody tr th {\n",
       "        vertical-align: top;\n",
       "    }\n",
       "\n",
       "    .dataframe thead th {\n",
       "        text-align: right;\n",
       "    }\n",
       "</style>\n",
       "<table border=\"1\" class=\"dataframe\">\n",
       "  <thead>\n",
       "    <tr style=\"text-align: right;\">\n",
       "      <th></th>\n",
       "      <th>date_str</th>\n",
       "      <th>degrees_from_mean</th>\n",
       "      <th>id</th>\n",
       "      <th>longitude</th>\n",
       "      <th>latitude</th>\n",
       "      <th>max_temp</th>\n",
       "      <th>min_temp</th>\n",
       "      <th>station_name</th>\n",
       "      <th>type</th>\n",
       "      <th>serialid</th>\n",
       "    </tr>\n",
       "  </thead>\n",
       "  <tbody>\n",
       "    <tr>\n",
       "      <th>0</th>\n",
       "      <td>02-19</td>\n",
       "      <td>8.61</td>\n",
       "      <td>USC00103882</td>\n",
       "      <td>-113.5472</td>\n",
       "      <td>43.7186</td>\n",
       "      <td>10.0</td>\n",
       "      <td>-12.8</td>\n",
       "      <td>GROUSE</td>\n",
       "      <td>0</td>\n",
       "      <td>1</td>\n",
       "    </tr>\n",
       "    <tr>\n",
       "      <th>1</th>\n",
       "      <td>02-19</td>\n",
       "      <td>10.74</td>\n",
       "      <td>USC00053951</td>\n",
       "      <td>-107.1097</td>\n",
       "      <td>37.7717</td>\n",
       "      <td>11.1</td>\n",
       "      <td>-8.9</td>\n",
       "      <td>HERMIT 7 ESE</td>\n",
       "      <td>0</td>\n",
       "      <td>2</td>\n",
       "    </tr>\n",
       "    <tr>\n",
       "      <th>2</th>\n",
       "      <td>02-19</td>\n",
       "      <td>20.46</td>\n",
       "      <td>USC00040379</td>\n",
       "      <td>-119.5128</td>\n",
       "      <td>37.0919</td>\n",
       "      <td>25.6</td>\n",
       "      <td>12.8</td>\n",
       "      <td>AUBERRY 2 NW</td>\n",
       "      <td>1</td>\n",
       "      <td>3</td>\n",
       "    </tr>\n",
       "    <tr>\n",
       "      <th>3</th>\n",
       "      <td>02-19</td>\n",
       "      <td>8.60</td>\n",
       "      <td>USC00020808</td>\n",
       "      <td>-109.7517</td>\n",
       "      <td>33.4783</td>\n",
       "      <td>20.0</td>\n",
       "      <td>-3.9</td>\n",
       "      <td>BLACK RIVER PUMPS</td>\n",
       "      <td>0</td>\n",
       "      <td>4</td>\n",
       "    </tr>\n",
       "    <tr>\n",
       "      <th>4</th>\n",
       "      <td>02-19</td>\n",
       "      <td>10.30</td>\n",
       "      <td>USC00042598</td>\n",
       "      <td>-115.4508</td>\n",
       "      <td>33.8089</td>\n",
       "      <td>30.6</td>\n",
       "      <td>13.9</td>\n",
       "      <td>EAGLE MTN</td>\n",
       "      <td>0</td>\n",
       "      <td>5</td>\n",
       "    </tr>\n",
       "  </tbody>\n",
       "</table>\n",
       "</div>"
      ],
      "text/plain": [
       "  date_str  degrees_from_mean           id  longitude  latitude  max_temp  \\\n",
       "0    02-19               8.61  USC00103882  -113.5472   43.7186      10.0   \n",
       "1    02-19              10.74  USC00053951  -107.1097   37.7717      11.1   \n",
       "2    02-19              20.46  USC00040379  -119.5128   37.0919      25.6   \n",
       "3    02-19               8.60  USC00020808  -109.7517   33.4783      20.0   \n",
       "4    02-19              10.30  USC00042598  -115.4508   33.8089      30.6   \n",
       "\n",
       "   min_temp       station_name  type  serialid  \n",
       "0     -12.8             GROUSE     0         1  \n",
       "1      -8.9       HERMIT 7 ESE     0         2  \n",
       "2      12.8       AUBERRY 2 NW     1         3  \n",
       "3      -3.9  BLACK RIVER PUMPS     0         4  \n",
       "4      13.9          EAGLE MTN     0         5  "
      ]
     },
     "execution_count": 10,
     "metadata": {},
     "output_type": "execute_result"
    }
   ],
   "source": [
    "# map for types to int\n",
    "typemap = {'Weak Hot':0, 'Strong Hot':1, 'Weak Cold': 2, 'Strong Cold': 3}\n",
    "#transform the type to integers\n",
    "def transform_types(cell):\n",
    "    return typemap[cell]\n",
    "data[\"type\"] = data[\"type\"].apply(transform_types)\n",
    "data.head()"
   ]
  },
  {
   "cell_type": "code",
   "execution_count": 11,
   "id": "9be9040c-d94c-443d-91ae-dfb6d6cbadc6",
   "metadata": {},
   "outputs": [
    {
     "name": "stdout",
     "output_type": "stream",
     "text": [
      "<class 'pandas.core.frame.DataFrame'>\n",
      "RangeIndex: 3196832 entries, 0 to 3196831\n",
      "Data columns (total 9 columns):\n",
      " #   Column             Dtype  \n",
      "---  ------             -----  \n",
      " 0   date_str           object \n",
      " 1   degrees_from_mean  float64\n",
      " 2   id                 object \n",
      " 3   longitude          float64\n",
      " 4   latitude           float64\n",
      " 5   max_temp           float64\n",
      " 6   min_temp           float64\n",
      " 7   station_name       object \n",
      " 8   type               int64  \n",
      "dtypes: float64(5), int64(1), object(3)\n",
      "memory usage: 219.5+ MB\n"
     ]
    }
   ],
   "source": [
    "#drop serialid, it is useless\n",
    "if \"serialid\" in data.columns:\n",
    "    data.drop(\"serialid\", axis=1, inplace = True)\n",
    "data.info()"
   ]
  },
  {
   "cell_type": "code",
   "execution_count": 12,
   "id": "b401e559-eed2-47ab-8dc3-a4a5998a40ec",
   "metadata": {},
   "outputs": [
    {
     "name": "stdout",
     "output_type": "stream",
     "text": [
      "<class 'pandas.core.frame.DataFrame'>\n",
      "RangeIndex: 3196832 entries, 0 to 3196831\n",
      "Data columns (total 8 columns):\n",
      " #   Column             Dtype  \n",
      "---  ------             -----  \n",
      " 0   date_str           object \n",
      " 1   degrees_from_mean  float64\n",
      " 2   id                 object \n",
      " 3   longitude          float64\n",
      " 4   latitude           float64\n",
      " 5   max_temp           float64\n",
      " 6   min_temp           float64\n",
      " 7   station_name       object \n",
      "dtypes: float64(5), object(3)\n",
      "memory usage: 195.1+ MB\n"
     ]
    }
   ],
   "source": [
    "#Split data to x y\n",
    "from sklearn.model_selection import train_test_split\n",
    "y = data[\"type\"]\n",
    "X = data.drop(\"type\", axis=1)\n",
    "X.info()"
   ]
  },
  {
   "cell_type": "code",
   "execution_count": 13,
   "id": "67b42729-d7e3-49ce-878c-b32311a696d6",
   "metadata": {},
   "outputs": [],
   "source": [
    "## import pipeline\n",
    "from sklearn.pipeline import Pipeline\n",
    "from sklearn.impute import SimpleImputer\n",
    "from sklearn.preprocessing import OrdinalEncoder\n",
    "\n",
    "\n",
    "# create a function to preprocess the data\n",
    "def preprocess_data(data):\n",
    "    # create a list of column types\n",
    "    cat_cols = data.select_dtypes(include = 'object').columns\n",
    "    num_cols = data.select_dtypes(exclude = 'object').columns\n",
    "\n",
    "    # create a pipeline for numerical columns\n",
    "    num_pipeline = Pipeline([\n",
    "        ('imputer', SimpleImputer(strategy = 'mean'))\n",
    "    ])\n",
    "\n",
    "    # create a pipeline for categorical columns\n",
    "    cat_pipeline = Pipeline([\n",
    "        ('imputer', SimpleImputer(strategy = 'most_frequent')),\n",
    "        ('encoder', OrdinalEncoder())\n",
    "    ])\n",
    "\n",
    "    # create a column transformer\n",
    "    from sklearn.compose import ColumnTransformer\n",
    "    preprocessor = ColumnTransformer([\n",
    "        ('num', num_pipeline, num_cols),\n",
    "        ('cat', cat_pipeline, cat_cols)\n",
    "    ])\n",
    "\n",
    "    # fit and transform the data\n",
    "    transformed_data = preprocessor.fit_transform(data)\n",
    "    transformed_data = pd.DataFrame(transformed_data, columns = num_cols.tolist() + cat_cols.tolist())\n",
    "    return transformed_data"
   ]
  },
  {
   "cell_type": "code",
   "execution_count": 14,
   "id": "ee9c2e5a-2f36-413c-91e0-9cb43699d8f9",
   "metadata": {},
   "outputs": [
    {
     "data": {
      "text/plain": [
       "(2557465, 639367)"
      ]
     },
     "execution_count": 14,
     "metadata": {},
     "output_type": "execute_result"
    }
   ],
   "source": [
    "# split into training set and test sets\n",
    "X_train, X_test, y_train, y_test = train_test_split(X, y, test_size=0.2, random_state=69)\n",
    "X_train = preprocess_data(X_train)\n",
    "X_test = preprocess_data(X_test)\n",
    "len(X_train[\"id\"]), len(X_test[\"id\"])"
   ]
  },
  {
   "cell_type": "code",
   "execution_count": 15,
   "id": "cb1e5dc6-e891-498c-bc89-eb2fdefaa35e",
   "metadata": {},
   "outputs": [
    {
     "name": "stdout",
     "output_type": "stream",
     "text": [
      "Linear Train Score:  0.7369924157264534\n",
      "Linear Test Score:  0.73841070988306\n",
      "LinearReg mean square error 0.29904149829276716\n",
      "LinearReg r2 score 0.73841070988306\n"
     ]
    }
   ],
   "source": [
    "# Try Linear Regression\n",
    "from sklearn.linear_model import LinearRegression\n",
    "linear = LinearRegression()\n",
    "linear.fit(X_train, y_train)\n",
    "print(\"Linear Train Score: \", linear.score(X_train, y_train))\n",
    "print(\"Linear Test Score: \", linear.score(X_test, y_test))\n",
    "y_pred = linear.predict(X_test)\n",
    "from sklearn.metrics import r2_score, mean_squared_error\n",
    "print(\"LinearReg mean square error\", mean_squared_error(y_test, y_pred))\n",
    "print(\"LinearReg r2 score\", r2_score(y_test, y_pred))"
   ]
  },
  {
   "cell_type": "code",
   "execution_count": 24,
   "id": "36dd229d-92d2-44d0-a37a-3976016699ea",
   "metadata": {},
   "outputs": [
    {
     "name": "stdout",
     "output_type": "stream",
     "text": [
      "LassoCV alpha with lowest mean square error 0.0\n",
      "Lasso Train Score:  0.7369924157264534\n",
      "Lasso Test Score:  0.7384107098830602\n",
      "Lasso mean square error 0.2990414982927669\n",
      "Lasso r2 score 0.7384107098830602\n",
      "\n",
      "\n",
      "Columns by importance [-5.59084215e-02  2.06085863e-03  1.96910766e-03 -6.82083461e-03\n",
      " -2.94113029e-03  7.74601838e-05  3.77824393e-06  4.95193913e-06]\n",
      "\n",
      "\n",
      "\n",
      "<class 'pandas.core.frame.DataFrame'>\n",
      "RangeIndex: 2557465 entries, 0 to 2557464\n",
      "Data columns (total 8 columns):\n",
      " #   Column             Dtype  \n",
      "---  ------             -----  \n",
      " 0   degrees_from_mean  float64\n",
      " 1   longitude          float64\n",
      " 2   latitude           float64\n",
      " 3   max_temp           float64\n",
      " 4   min_temp           float64\n",
      " 5   date_str           float64\n",
      " 6   id                 float64\n",
      " 7   station_name       float64\n",
      "dtypes: float64(8)\n",
      "memory usage: 156.1 MB\n"
     ]
    }
   ],
   "source": [
    "# Try Lasso Regression\n",
    "from sklearn.linear_model import Lasso, LassoCV\n",
    "from sklearn.model_selection import RepeatedKFold\n",
    "from numpy import arange\n",
    "\n",
    "#for cross-validation\n",
    "cv = RepeatedKFold(n_splits=10, n_repeats=5, random_state=420)\n",
    "\n",
    "lcv_model = LassoCV(cv=cv, alphas=arange(0,1,0.1))\n",
    "\n",
    "lcv_model.fit(X_train, y_train)\n",
    "print(\"LassoCV alpha with lowest mean square error\", lcv_model.alpha_)\n",
    "lasso = Lasso(alpha=lcv_model.alpha_)\n",
    "lasso.fit(X_train, y_train)\n",
    "print(\"Lasso Train Score: \", lasso.score(X_train, y_train))\n",
    "print(\"Lasso Test Score: \", lasso.score(X_test, y_test))\n",
    "y_pred = lasso.predict(X_test)\n",
    "from sklearn.metrics import r2_score, mean_squared_error\n",
    "print(\"Lasso mean square error\", mean_squared_error(y_test, y_pred))\n",
    "print(\"Lasso r2 score\", r2_score(y_test, y_pred))\n",
    "\n",
    "# collumns by importance\n",
    "print(\"\\n\\nColumns by importance\",lasso.coef_)\n",
    "print(\"\\n\\n\")\n",
    "X_train.info()"
   ]
  },
  {
   "cell_type": "code",
   "execution_count": null,
   "id": "271bf885-84a1-4caf-9891-344553652696",
   "metadata": {},
   "outputs": [],
   "source": []
  }
 ],
 "metadata": {
  "kernelspec": {
   "display_name": "Python 3 (ipykernel)",
   "language": "python",
   "name": "python3"
  },
  "language_info": {
   "codemirror_mode": {
    "name": "ipython",
    "version": 3
   },
   "file_extension": ".py",
   "mimetype": "text/x-python",
   "name": "python",
   "nbconvert_exporter": "python",
   "pygments_lexer": "ipython3",
   "version": "3.11.7"
  }
 },
 "nbformat": 4,
 "nbformat_minor": 5
}
